{
 "cells": [
  {
   "cell_type": "code",
   "execution_count": null,
   "metadata": {
    "collapsed": true
   },
   "outputs": [],
   "source": [
    "import selenium.webdriver\n",
    "from bs4 import BeautifulSoup\n",
    "import re\n",
    "import os\n",
    "import urllib.request\n",
    "import json\n",
    "from urllib.parse import quote\n",
    "import time\n",
    "import json\n",
    "import socket\n",
    "socket.setdefaulttimeout(5)"
   ]
  },
  {
   "cell_type": "code",
   "execution_count": null,
   "metadata": {
    "collapsed": true
   },
   "outputs": [],
   "source": [
    "# soup = BeautifulSoup(driver.page_source, \"html.parser\")\n",
    "# print(soup.prettify())"
   ]
  },
  {
   "cell_type": "code",
   "execution_count": null,
   "metadata": {
    "collapsed": true
   },
   "outputs": [],
   "source": [
    "def downloadImage(word,scroll):\n",
    "    key = quote(word)#關鍵字\n",
    "    url='https://www.google.com.tw/search?q='+key+'&tbm=isch'\n",
    "\n",
    "    driver = selenium.webdriver.Chrome()\n",
    "    driver.set_window_position(0,0) #瀏覽器位置\n",
    "    driver.set_window_size(1280,720) #瀏覽器大小\n",
    "    driver.get(url)\n",
    "    print(driver.title)\n",
    "\n",
    "    index=1\n",
    "    n=0\n",
    "    while n < scroll:#scroll捲動次數\n",
    "        soup = BeautifulSoup(driver.page_source, \"html.parser\")\n",
    "        html = soup.find_all('div', class_='rg_meta notranslate') #找到藏有url的標籤\n",
    "        html = str(html) #原本type不明所以轉str\n",
    "        reg = r'\"ou.*?(http.*?)\"'#\"=%quot; 型態記得注意\n",
    "        reg = re.compile(reg)\n",
    "        list = re.findall(reg,html)\n",
    "        try:\n",
    "            if index-len(list) == 0:\n",
    "                a=driver.find_element_by_id('smb')\n",
    "                a.click()\n",
    "                time.sleep(3) \n",
    "        except:\n",
    "            print('',end='')\n",
    "        \n",
    "        print('捲動第'+str(n)+'次，總有'+str(len(list))+'張')\n",
    "        if not os.path.exists(\"./\" + word):#make dir\n",
    "                os.mkdir(\"./\" + word)\n",
    "\n",
    "        for num in range(index,len(list)):\n",
    "            try:\n",
    "                page=len(os.listdir('./'+word))+1\n",
    "                urllib.request.urlretrieve(list[num],\"./\" + word+'/'+str(page)+'.jpg')\n",
    "                print(str(page),end='|')\n",
    "            except:\n",
    "                print('x',end='|')\n",
    "        index = len(list)\n",
    "\n",
    "        driver.execute_script('window.scrollTo(0, 1000000000)')#scroll driver\n",
    "        time.sleep(3)\n",
    "        \n",
    "        n+=1\n",
    "    print('|')\n",
    "    print('總共爬到'+str(len(list))+'張，成功下載'+str(page)+'張')\n",
    "    print('finist')"
   ]
  },
  {
   "cell_type": "code",
   "execution_count": null,
   "metadata": {
    "scrolled": true
   },
   "outputs": [],
   "source": [
    "downloadImage('田中美海',10)"
   ]
  },
  {
   "cell_type": "code",
   "execution_count": null,
   "metadata": {
    "collapsed": true
   },
   "outputs": [],
   "source": []
  },
  {
   "cell_type": "code",
   "execution_count": null,
   "metadata": {
    "collapsed": true
   },
   "outputs": [],
   "source": []
  },
  {
   "cell_type": "code",
   "execution_count": null,
   "metadata": {
    "collapsed": true
   },
   "outputs": [],
   "source": []
  }
 ],
 "metadata": {
  "kernelspec": {
   "display_name": "Python 3",
   "language": "python",
   "name": "python3"
  },
  "language_info": {
   "codemirror_mode": {
    "name": "ipython",
    "version": 3
   },
   "file_extension": ".py",
   "mimetype": "text/x-python",
   "name": "python",
   "nbconvert_exporter": "python",
   "pygments_lexer": "ipython3",
   "version": "3.6.2"
  }
 },
 "nbformat": 4,
 "nbformat_minor": 2
}
